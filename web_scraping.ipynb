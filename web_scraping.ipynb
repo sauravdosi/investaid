{
 "cells": [
  {
   "cell_type": "code",
   "execution_count": 1,
   "id": "incident-trailer",
   "metadata": {},
   "outputs": [],
   "source": [
    "import requests\n",
    "import pandas as pd"
   ]
  },
  {
   "cell_type": "code",
   "execution_count": 2,
   "id": "aerial-picking",
   "metadata": {},
   "outputs": [],
   "source": [
    "twitter_data = []"
   ]
  },
  {
   "cell_type": "code",
   "execution_count": 3,
   "id": "toxic-gallery",
   "metadata": {},
   "outputs": [],
   "source": [
    "payload = {'api_key':'be4e3c64bdb4bf0e6a191bcd923f1177', \n",
    "           'query':'Fidelity Investments', \n",
    "           'num':'5'}\n",
    "\n",
    "response = requests.get('https://api.scraperapi.com/structured/twitter/search/', params = payload)\n",
    "\n",
    "data = response.json()"
   ]
  },
  {
   "cell_type": "code",
   "execution_count": 4,
   "id": "quiet-increase",
   "metadata": {},
   "outputs": [],
   "source": [
    "tweet_data = data['organic_results']\n",
    "\n",
    "for tweet in tweet_data:\n",
    "    twitter_data.append(tweet)"
   ]
  },
  {
   "cell_type": "code",
   "execution_count": 5,
   "id": "parallel-promise",
   "metadata": {},
   "outputs": [],
   "source": [
    "df = pd.DataFrame(twitter_data)"
   ]
  },
  {
   "cell_type": "code",
   "execution_count": 6,
   "id": "killing-reform",
   "metadata": {},
   "outputs": [
    {
     "data": {
      "text/html": [
       "<div>\n",
       "<style scoped>\n",
       "    .dataframe tbody tr th:only-of-type {\n",
       "        vertical-align: middle;\n",
       "    }\n",
       "\n",
       "    .dataframe tbody tr th {\n",
       "        vertical-align: top;\n",
       "    }\n",
       "\n",
       "    .dataframe thead th {\n",
       "        text-align: right;\n",
       "    }\n",
       "</style>\n",
       "<table border=\"1\" class=\"dataframe\">\n",
       "  <thead>\n",
       "    <tr style=\"text-align: right;\">\n",
       "      <th></th>\n",
       "      <th>position</th>\n",
       "      <th>title</th>\n",
       "      <th>snippet</th>\n",
       "      <th>highlighs</th>\n",
       "      <th>link</th>\n",
       "      <th>displayed_link</th>\n",
       "    </tr>\n",
       "  </thead>\n",
       "  <tbody>\n",
       "    <tr>\n",
       "      <th>0</th>\n",
       "      <td>0</td>\n",
       "      <td>Fidelity Investments</td>\n",
       "      <td>Fidelity Investments. @Fidelity. Welcome to th...</td>\n",
       "      <td>[Fidelity Investments, Fidelity Investments]</td>\n",
       "      <td>https://twitter.com/Fidelity</td>\n",
       "      <td>https://twitter.com › Fidelity</td>\n",
       "    </tr>\n",
       "    <tr>\n",
       "      <th>1</th>\n",
       "      <td>1</td>\n",
       "      <td>Fidelity Investments</td>\n",
       "      <td>Oct 2, 2023 — What to ask an advisor | Fidelit...</td>\n",
       "      <td>[Fidelity Investments]</td>\n",
       "      <td>https://twitter.com/Fidelity/status/1708964958...</td>\n",
       "      <td>https://twitter.com › Fidelity › status</td>\n",
       "    </tr>\n",
       "    <tr>\n",
       "      <th>2</th>\n",
       "      <td>2</td>\n",
       "      <td>Fidelity Investments</td>\n",
       "      <td>Oct 27, 2023 — Fidelity Investments · @Fidelit...</td>\n",
       "      <td>[Fidelity Investments]</td>\n",
       "      <td>https://twitter.com/Fidelity/status/1718041099...</td>\n",
       "      <td>https://twitter.com › Fidelity › status</td>\n",
       "    </tr>\n",
       "    <tr>\n",
       "      <th>3</th>\n",
       "      <td>3</td>\n",
       "      <td>Fidelity Investments</td>\n",
       "      <td>Fidelity Investments · @Fidelity. Last good mo...</td>\n",
       "      <td>[Fidelity Investments]</td>\n",
       "      <td>https://twitter.com/Fidelity/status/1707077764...</td>\n",
       "      <td>https://twitter.com › Fidelity › status</td>\n",
       "    </tr>\n",
       "    <tr>\n",
       "      <th>4</th>\n",
       "      <td>4</td>\n",
       "      <td>Fidelity Investments</td>\n",
       "      <td>Oct 18, 2023 — Fidelity Investments · @Fidelit...</td>\n",
       "      <td>[Fidelity Investments]</td>\n",
       "      <td>https://twitter.com/Fidelity/status/1714725699...</td>\n",
       "      <td>https://twitter.com › Fidelity › status</td>\n",
       "    </tr>\n",
       "  </tbody>\n",
       "</table>\n",
       "</div>"
      ],
      "text/plain": [
       "   position                 title  \\\n",
       "0         0  Fidelity Investments   \n",
       "1         1  Fidelity Investments   \n",
       "2         2  Fidelity Investments   \n",
       "3         3  Fidelity Investments   \n",
       "4         4  Fidelity Investments   \n",
       "\n",
       "                                             snippet  \\\n",
       "0  Fidelity Investments. @Fidelity. Welcome to th...   \n",
       "1  Oct 2, 2023 — What to ask an advisor | Fidelit...   \n",
       "2  Oct 27, 2023 — Fidelity Investments · @Fidelit...   \n",
       "3  Fidelity Investments · @Fidelity. Last good mo...   \n",
       "4  Oct 18, 2023 — Fidelity Investments · @Fidelit...   \n",
       "\n",
       "                                      highlighs  \\\n",
       "0  [Fidelity Investments, Fidelity Investments]   \n",
       "1                        [Fidelity Investments]   \n",
       "2                        [Fidelity Investments]   \n",
       "3                        [Fidelity Investments]   \n",
       "4                        [Fidelity Investments]   \n",
       "\n",
       "                                                link  \\\n",
       "0                       https://twitter.com/Fidelity   \n",
       "1  https://twitter.com/Fidelity/status/1708964958...   \n",
       "2  https://twitter.com/Fidelity/status/1718041099...   \n",
       "3  https://twitter.com/Fidelity/status/1707077764...   \n",
       "4  https://twitter.com/Fidelity/status/1714725699...   \n",
       "\n",
       "                            displayed_link  \n",
       "0           https://twitter.com › Fidelity  \n",
       "1  https://twitter.com › Fidelity › status  \n",
       "2  https://twitter.com › Fidelity › status  \n",
       "3  https://twitter.com › Fidelity › status  \n",
       "4  https://twitter.com › Fidelity › status  "
      ]
     },
     "execution_count": 6,
     "metadata": {},
     "output_type": "execute_result"
    }
   ],
   "source": [
    "df"
   ]
  },
  {
   "cell_type": "code",
   "execution_count": 7,
   "id": "declared-clinic",
   "metadata": {},
   "outputs": [],
   "source": [
    "tweets = list(df['snippet'])"
   ]
  },
  {
   "cell_type": "code",
   "execution_count": 8,
   "id": "pressing-factor",
   "metadata": {},
   "outputs": [
    {
     "data": {
      "text/plain": [
       "[\"Fidelity Investments. @Fidelity. Welcome to the Fidelity Investments X account. We're here to answer questions and cover the latest market trends. Disclosures\\xa0...\",\n",
       " 'Oct 2, 2023 — What to ask an advisor | Fidelity Investments. These 5 questions can help you make the most of a meeting with a financial advisor—whether\\xa0...',\n",
       " 'Oct 27, 2023 — Fidelity Investments · @Fidelity. Hi, shares of Bed Bath & Beyond (BBBY) have been delisted. This security has been deemed to have no\\xa0...',\n",
       " 'Fidelity Investments · @Fidelity. Last good money-related book you read—GO: 5:00 PM · Sep 27, 2023. ·. 23.6K. Views. 4. Reposts · 2. Quotes · 30.',\n",
       " 'Oct 18, 2023 — Fidelity Investments · @Fidelity. What inspires you to invest? A comfortable retirement? Maybe future entrepreneurship or philanthropy\\xa0...']"
      ]
     },
     "execution_count": 8,
     "metadata": {},
     "output_type": "execute_result"
    }
   ],
   "source": [
    "tweets"
   ]
  },
  {
   "cell_type": "code",
   "execution_count": null,
   "id": "connected-honduras",
   "metadata": {},
   "outputs": [],
   "source": []
  }
 ],
 "metadata": {
  "kernelspec": {
   "display_name": "Python 3",
   "language": "python",
   "name": "python3"
  },
  "language_info": {
   "codemirror_mode": {
    "name": "ipython",
    "version": 3
   },
   "file_extension": ".py",
   "mimetype": "text/x-python",
   "name": "python",
   "nbconvert_exporter": "python",
   "pygments_lexer": "ipython3",
   "version": "3.9.2"
  }
 },
 "nbformat": 4,
 "nbformat_minor": 5
}
